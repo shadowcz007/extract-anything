{
 "cells": [
  {
   "cell_type": "code",
   "execution_count": 5,
   "id": "6af3a439-1c72-4439-83af-14489a417afe",
   "metadata": {},
   "outputs": [],
   "source": [
    "from PIL import Image, ImageOps\n",
    "from IPython.display import display"
   ]
  },
  {
   "cell_type": "code",
   "execution_count": 29,
   "id": "c23e31c2-06b5-4904-8259-1910e007415b",
   "metadata": {},
   "outputs": [],
   "source": [
    "img=Image.open('./data/ComfyUI_00128_.png')\n",
    "mask=Image.open('./data/ComfyUI_00129_.png')\n",
    "\n",
    "img=img.convert(\"RGBA\")\n",
    "mask=mask.convert(\"RGBA\")"
   ]
  },
  {
   "cell_type": "code",
   "execution_count": 30,
   "id": "ac629936-eca3-4bd1-b855-4bd3c46bbb89",
   "metadata": {},
   "outputs": [],
   "source": [
    "empty = Image.new(\"RGBA\", (img.size), 0)\n",
    "\n",
    "red, green, blue, alpha = mask.split()\n",
    "\n",
    "mask = mask.convert('L')\n",
    "mask = mask.point(lambda x: 255 if x < 128 else 0)\n",
    "\n",
    "new_image = Image.merge('RGBA', (red, green, blue, mask))\n",
    "\n",
    "cutout = Image.composite(img.convert(\"RGBA\"), empty,new_image)"
   ]
  },
  {
   "cell_type": "code",
   "execution_count": 32,
   "id": "4d356140-3998-4003-a9e0-1f4e4c335331",
   "metadata": {},
   "outputs": [],
   "source": [
    "cutout.save('t.png',compress_level=4)"
   ]
  },
  {
   "cell_type": "code",
   "execution_count": null,
   "id": "d2bbd82b-fd3d-4fc8-9308-1d0fab5c7423",
   "metadata": {},
   "outputs": [],
   "source": []
  }
 ],
 "metadata": {
  "kernelspec": {
   "display_name": "Python 3 (ipykernel)",
   "language": "python",
   "name": "python3"
  },
  "language_info": {
   "codemirror_mode": {
    "name": "ipython",
    "version": 3
   },
   "file_extension": ".py",
   "mimetype": "text/x-python",
   "name": "python",
   "nbconvert_exporter": "python",
   "pygments_lexer": "ipython3",
   "version": "3.10.11"
  }
 },
 "nbformat": 4,
 "nbformat_minor": 5
}
